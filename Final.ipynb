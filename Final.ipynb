{
 "cells": [
  {
   "cell_type": "markdown",
   "metadata": {},
   "source": [
    "# Lung Segmentation using CT Scans"
   ]
  },
  {
   "cell_type": "markdown",
   "metadata": {},
   "source": [
    "We use a dataset comprising lung CT scans, exactly 45 scans, having varying number of slices for each, and the corresponding labels mark trachea, left and right lung which has been changed to just lungs. Our primary objective is to accurately segment the lungs.Our approach involves preprocessing steps, such as the removal of the trachea label and the amalgamation of left and right lung masks into a single label, followed by the application of various deep learning models to perform segmentation.\n",
    "\n",
    "The project explores different model architectures and loss functions, fine-tuning them with a specific focus on achieving high accuracy in segmentation tasks. Our experimentation is driven by a dual objective: to develop a model that performs effectively on our dataset and added we also benchmark our best model against a state-of-the-art tool in the field, lungmask"
   ]
  },
  {
   "cell_type": "markdown",
   "metadata": {},
   "source": [
    "## Initial Changes(Trachea label removal and Mask Amalgation)\n",
    "For this we remove the trachea(5) label and combine the left(3) and right(4) lung masks into one label."
   ]
  },
  {
   "cell_type": "code",
   "execution_count": null,
   "metadata": {},
   "outputs": [],
   "source": [
    "import os\n",
    "import nibabel as nib\n",
    "import numpy as np\n",
    "\n",
    "def process_labels(input_folder, output_folder):\n",
    "    if not os.path.exists(output_folder):\n",
    "        os.makedirs(output_folder)\n",
    "\n",
    "    for filename in os.listdir(input_folder):\n",
    "        if filename.endswith('.nii.gz'):\n",
    "            file_path = os.path.join(input_folder, filename)\n",
    "            label_file = nib.load(file_path)\n",
    "            label_data = label_file.get_fdata()\n",
    "            combined_label = np.where((label_data == 3) | (label_data == 4), 1, 0)\n",
    "\n",
    "            new_label_file = nib.Nifti1Image(combined_label, label_file.affine)\n",
    "            nib.save(new_label_file, os.path.join(output_folder, filename))\n",
    "\n",
    "input_folder = 'labelsTr'\n",
    "output_folder = '/home2/rhuthik.p/BioCliq/test'\n",
    "process_labels(input_folder, output_folder)\n"
   ]
  },
  {
   "cell_type": "markdown",
   "metadata": {},
   "source": [
    "From here on we will be using this as our lung masks"
   ]
  },
  {
   "cell_type": "markdown",
   "metadata": {},
   "source": [
    "## Experimentation"
   ]
  },
  {
   "cell_type": "markdown",
   "metadata": {},
   "source": [
    "We conduct a set of experiments to find the best model, which has been found to be Res18 BCE as shown"
   ]
  },
  {
   "cell_type": "markdown",
   "metadata": {},
   "source": [
    "| Model         | Train  | validation | test   |\n",
    "|---------------|--------|------------|--------|\n",
    "| Res34 BCE     | 0.9828 | 0.9667     | 0.9560 |\n",
    "| **Res18 BCE** | 0.9872 | 0.9444     | **0.9573** |\n",
    "| Res18 Dice    | 0.9827 | 0.9325     | 0.9517 |\n",
    "| Res18 focal   | 0.9780 | 0.9323     | 0.8559 |\n",
    "| LungMask      | -      | -          | 0.9526 |\n"
   ]
  },
  {
   "cell_type": "markdown",
   "metadata": {},
   "source": [
    "We experiment with different ResNet Based models and loss function variations, from experimentation I have found and fixed other parameters like epochs and learning rate as 20 and 0.0001"
   ]
  },
  {
   "cell_type": "markdown",
   "metadata": {},
   "source": [
    "## Firstly importing the necessary libraries needed"
   ]
  },
  {
   "cell_type": "code",
   "execution_count": null,
   "metadata": {},
   "outputs": [],
   "source": [
    "import gzip\n",
    "import numpy as np\n",
    "from matplotlib import pyplot as plt\n",
    "from PIL import Image\n",
    "%matplotlib inline\n",
    "import os\n",
    "import nibabel as nib\n",
    "import torch\n",
    "import torch.nn as nn\n",
    "import torch.nn.functional as F\n",
    "from torch.utils.data import Dataset, DataLoader, Subset\n",
    "from torchvision import transforms\n",
    "from torch.nn.functional import pad"
   ]
  },
  {
   "cell_type": "markdown",
   "metadata": {},
   "source": [
    "## Image Preprocessing\n",
    "Doing mainly 2 preprocessing activities, which are :\n",
    "### Intensity clipping\n",
    "This basically limits our pixel intensity value range in image, in our case to (-1024,600), why? Through literature survey found that lung ct scans falls in this region\n",
    "\n",
    "### Contrast Stretching\n",
    "CS improves the contrast by stretching the range of intensity values. we use (-1350,150) again following our findings. But this has not been used in our experimentation and was added in case we needed\n"
   ]
  },
  {
   "cell_type": "markdown",
   "metadata": {},
   "source": [
    "Now we load our dataset in the below class, here we do the above preprocessing and organise and sort the image and label paths."
   ]
  },
  {
   "cell_type": "code",
   "execution_count": 2,
   "metadata": {},
   "outputs": [],
   "source": [
    "class NiiDataset(Dataset):\n",
    "    def __init__(self, images_dir, labels_dir, clip_range=(-1024, 600), \n",
    "                 contrast_range=(-1350, 150), contrast_stretch=False):\n",
    "\n",
    "        self.images_dir = images_dir\n",
    "        self.labels_dir = labels_dir\n",
    "        self.clip_range = clip_range\n",
    "        self.contrast_range = contrast_range\n",
    "        self.contrast_stretch = contrast_stretch\n",
    "\n",
    "        self.images = [os.path.join(images_dir, file) for file in os.listdir(images_dir)]\n",
    "        self.labels = [os.path.join(labels_dir, file) for file in os.listdir(labels_dir)]\n",
    "        self.images.sort()\n",
    "        self.labels.sort()\n",
    "\n",
    "    def __len__(self):\n",
    "        return len(self.images)\n",
    "\n",
    "    def __getitem__(self, idx):\n",
    "        image_path = self.images[idx]\n",
    "        label_path = self.labels[idx]\n",
    "        image = nib.load(image_path).get_fdata()\n",
    "        label = nib.load(label_path).get_fdata()\n",
    "        image = torch.tensor(image, dtype=torch.float32).unsqueeze(0) \n",
    "        label = torch.tensor(label, dtype=torch.float32)\n",
    "\n",
    "        return image, label\n",
    "\n",
    "    def contrast_stretch_transform(self, image):\n",
    "        min_val, max_val = self.contrast_range\n",
    "        image = (image - image.min()) / (image.max() - image.min()) \n",
    "        image = image * (max_val - min_val) + min_val \n",
    "        return image"
   ]
  },
  {
   "cell_type": "markdown",
   "metadata": {},
   "source": [
    "imagedata class is used to subdivide our datasets into chunks for testing,training and validating."
   ]
  },
  {
   "cell_type": "markdown",
   "metadata": {},
   "source": [
    "Here we also do reshaping and permuting so that we can give each slice as input.(H,W,D will be changed to D,H,W )"
   ]
  },
  {
   "cell_type": "code",
   "execution_count": 3,
   "metadata": {},
   "outputs": [],
   "source": [
    "class imagedata(Dataset):\n",
    "    def __init__(self, data, clip_range=(-1024, 600), \n",
    "                 contrast_range=(-1350, 150),indices = (0,36) ,contrast_stretch=False):\n",
    "        # print(\"in init\")\n",
    "        self.clip_range = clip_range\n",
    "        self.contrast_range = contrast_range\n",
    "        self.contrast_stretch = contrast_stretch\n",
    "        datapoints = []\n",
    "        # print(len(datapoints))\n",
    "        for i in range(indices[0],indices[1]):\n",
    "            datapoints.append(data[i])\n",
    "        self.images = []\n",
    "        self.labels = []\n",
    "        for i in range(len(datapoints)):\n",
    "            imgs , labs = datapoints[i]\n",
    "            # print(imgs.shape,labs.shape)\n",
    "            imgsn = torch.permute(imgs.squeeze(0), (2, 0, 1))\n",
    "            # print(imgsn.shape)\n",
    "            labsn = torch.permute(labs, (2, 0, 1))\n",
    "            # print(labsn.shape)\n",
    "            for j in range(imgsn.shape[0]):\n",
    "                self.images.append(imgsn[j])\n",
    "                self.labels.append(labsn[j])\n",
    "\n",
    "    def __len__(self):\n",
    "        return len(self.images)\n",
    "\n",
    "    def __getitem__(self, idx):\n",
    "        image = self.images[idx]\n",
    "        label = self.labels[idx]\n",
    "\n",
    "        image = image.clip(*self.clip_range)\n",
    "\n",
    "        if self.contrast_stretch:\n",
    "            image = self.contrast_stretch_transform(image)\n",
    "\n",
    "        image = torch.tensor(image, dtype=torch.float32).unsqueeze(0)  \n",
    "        label = torch.tensor(label, dtype=torch.float32).unsqueeze(0)\n",
    "\n",
    "        return image, label\n",
    "\n",
    "    def contrast_stretch_transform(self, image):\n",
    "        min_val, max_val = self.contrast_range\n",
    "        image = (image - image.min()) / (image.max() - image.min())  \n",
    "        image = image * (max_val - min_val) + min_val  \n",
    "        return image"
   ]
  },
  {
   "cell_type": "markdown",
   "metadata": {},
   "source": [
    "Dice Score is used as our metrics for evaluation, since we deal with segmentation. It measures the overlap between predicted and actual segmentations. Here we define it"
   ]
  },
  {
   "cell_type": "code",
   "execution_count": 4,
   "metadata": {},
   "outputs": [],
   "source": [
    "def dice_score(pred, target, epsilon=1e-6):\n",
    "    pred = torch.sigmoid(pred)  # Apply sigmoid to get binary predictions\n",
    "    pred = (pred > 0.5).float()  # Binarize predictions (thresholding at 0.5)\n",
    "\n",
    "    intersection = (pred * target).sum(dim=[2, 3])  # Compute intersection\n",
    "    union = pred.sum(dim=[2, 3]) + target.sum(dim=[2, 3])  # Compute union\n",
    "\n",
    "    dice = (2. * intersection + epsilon) / (union + epsilon)  # Compute Dice score\n",
    "    return dice.mean() "
   ]
  },
  {
   "cell_type": "markdown",
   "metadata": {},
   "source": [
    "## Model Training function\n",
    "Here we encapsulate the training loop. It includes forward pass for predictions, loss calculation and backpropogation. Then we have a mechanism for tracking and saving the best model based on validation loss. And also a logging for later analysis, mainly the training and validation metrics."
   ]
  },
  {
   "cell_type": "code",
   "execution_count": 14,
   "metadata": {},
   "outputs": [],
   "source": [
    "import torch\n",
    "from tqdm import trange, tqdm\n",
    "import segmentation_models_pytorch as smp\n",
    "\n",
    "def train_model(model, num_epochs, train_loader, valid_loader, device, loss_criterion, optimizer, dice_score_function, best_model_save_name, train_save_path, valid_save_path, dice_save_path):\n",
    "    train_losses = []\n",
    "    train_dice_scores = []\n",
    "    valid_losses = []\n",
    "    valid_dice_scores = []\n",
    "\n",
    "    best_valid_loss = float('inf') \n",
    "    model.to(device)\n",
    "\n",
    "    for epoch in trange(num_epochs):\n",
    "        model.train()\n",
    "        total_train_loss = 0\n",
    "        total_train_dice = 0\n",
    "        train_count = 0\n",
    "\n",
    "        for images, labels in train_loader:\n",
    "            images = images.to(device)\n",
    "            labels = labels.to(device)\n",
    "\n",
    "            # Forward pass\n",
    "            predictions = model(images)\n",
    "            loss = loss_criterion(predictions, labels)\n",
    "            dice_score_value = dice_score_function(predictions, labels).item()\n",
    "\n",
    "            # Backward pass and optimize\n",
    "            optimizer.zero_grad()\n",
    "            loss.backward()\n",
    "            optimizer.step()\n",
    "\n",
    "            total_train_loss += loss.item()\n",
    "            total_train_dice += dice_score_value\n",
    "            train_count += 1\n",
    "\n",
    "        avg_train_loss = total_train_loss / train_count\n",
    "        avg_train_dice = total_train_dice / train_count\n",
    "        train_losses.append(avg_train_loss)\n",
    "        train_dice_scores.append(avg_train_dice)\n",
    "\n",
    "        # Validation phase\n",
    "        model.eval()\n",
    "        total_valid_loss = 0\n",
    "        total_valid_dice = 0\n",
    "        valid_count = 0\n",
    "\n",
    "        with torch.no_grad():\n",
    "            for images, labels in valid_loader:\n",
    "                images = images.to(device)\n",
    "                labels = labels.to(device)\n",
    "\n",
    "                predictions = model(images)\n",
    "                loss = loss_criterion(predictions, labels)\n",
    "                dice_score_value = dice_score_function(predictions, labels).item()\n",
    "\n",
    "                total_valid_loss += loss.item()\n",
    "                total_valid_dice += dice_score_value\n",
    "                valid_count += 1\n",
    "\n",
    "        avg_valid_loss = total_valid_loss / valid_count\n",
    "        avg_valid_dice = total_valid_dice / valid_count\n",
    "        valid_losses.append(avg_valid_loss)\n",
    "        valid_dice_scores.append(avg_valid_dice)\n",
    "\n",
    "        # Save model if validation loss improved\n",
    "        if avg_valid_loss < best_valid_loss:\n",
    "            best_valid_loss = avg_valid_loss\n",
    "            torch.save(model.state_dict(), best_model_save_name)\n",
    "\n",
    "        # Save metrics to files\n",
    "        with open(train_save_path, 'a') as f:\n",
    "            f.write(f\"{avg_train_loss}\\n\")\n",
    "        with open(valid_save_path, 'a') as f:\n",
    "            f.write(f\"{avg_valid_loss}\\n\")\n",
    "        with open(dice_save_path, 'a') as f:\n",
    "            f.write(f\"{avg_train_dice}\\n\")\n",
    "\n",
    "        print(f\"Epoch [{epoch+1}/{num_epochs}], Train Loss: {avg_train_loss:.4f}, Train Dice Score: {avg_train_dice:.4f}, \"\n",
    "              f\"Validation Loss: {avg_valid_loss:.4f}, Validation Dice Score: {avg_valid_dice:.4f}\")\n",
    "\n",
    "    return train_losses, train_dice_scores, valid_losses, valid_dice_scores"
   ]
  },
  {
   "cell_type": "markdown",
   "metadata": {},
   "source": [
    "## Plotting Functions for LOSS and DICE SCORE\n",
    "plot_loss: Visualizes the training and validation loss over epochs, aiding in the identification of overfitting or underfitting."
   ]
  },
  {
   "cell_type": "markdown",
   "metadata": {},
   "source": [
    "plot_dice: Displays the Dice score over epochs, indicating the model's performance in segmentation tasks."
   ]
  },
  {
   "cell_type": "code",
   "execution_count": 15,
   "metadata": {},
   "outputs": [],
   "source": [
    "def plot_loss(train_save_path, valid_save_path):\n",
    "    train_losses = []\n",
    "    valid_losses = []\n",
    "\n",
    "    with open(train_save_path, 'r') as f:\n",
    "        for line in f:\n",
    "            train_losses.append(float(line.strip()))\n",
    "\n",
    "    with open(valid_save_path, 'r') as f:\n",
    "        for line in f:\n",
    "            valid_losses.append(float(line.strip()))\n",
    "\n",
    "    plt.plot(train_losses, label='Training loss')\n",
    "    plt.plot(valid_losses, label='Validation loss')\n",
    "    plt.legend()\n",
    "    plt.show()\n",
    "    \n",
    "def plot_dice(dice_save_path):\n",
    "    train_dice_scores = []\n",
    "\n",
    "    with open(dice_save_path, 'r') as f:\n",
    "        for line in f:\n",
    "            train_dice_scores.append(float(line.strip()))\n",
    "\n",
    "    plt.plot(train_dice_scores, label='Training Dice score')\n",
    "    plt.legend()\n",
    "    plt.show()"
   ]
  },
  {
   "cell_type": "markdown",
   "metadata": {},
   "source": [
    "## Model Evaluation Function\n",
    "Here we compute the Dice score for each sample in test set and average them. A visualisation of the results is also done for qualitative analysis"
   ]
  },
  {
   "cell_type": "code",
   "execution_count": 16,
   "metadata": {},
   "outputs": [],
   "source": [
    "def eval_model(model, data, device):\n",
    "    model.eval()\n",
    "    test_dice_scores = []\n",
    "    results = []\n",
    "    olabels = []\n",
    "    with torch.no_grad():\n",
    "        for images, labels in tqdm(data):\n",
    "            images = images.to(device)\n",
    "            labels = labels.to(device)\n",
    "            predictions = model(images)\n",
    "            results.append(predictions)\n",
    "            olabels.append(labels)\n",
    "            dice_score_value = dice_score(predictions, labels).item()\n",
    "            test_dice_scores.append(dice_score_value)\n",
    "\n",
    "    avg_test_dice_score = sum(test_dice_scores) / len(test_dice_scores)\n",
    "    print(f'Average Test Dice Score: {avg_test_dice_score:.4f}')\n",
    "    return results,olabels,test_dice_scores"
   ]
  },
  {
   "cell_type": "code",
   "execution_count": 17,
   "metadata": {},
   "outputs": [],
   "source": [
    "def plot_results(result, label,batch,index):\n",
    "    fig, ax = plt.subplots(1, 2, figsize=(10, 5))\n",
    "    ax[0].imshow(result[batch][index][0].detach().cpu().numpy() > 0.5,cmap='gray')\n",
    "    ax[0].set_title('Prediction')\n",
    "    ax[0].axis('off')\n",
    "    ax[1].imshow(label[batch][index][0].detach().cpu().numpy(),cmap='gray')\n",
    "    ax[1].set_title('Original Label')\n",
    "    ax[1].axis('off')\n",
    "    plt.show()"
   ]
  },
  {
   "cell_type": "markdown",
   "metadata": {},
   "source": [
    "## Data Loading and Splitting\n",
    "Here, we load the data using the previously defined classes and split it into training, validation, and test sets.We distribute them as 70:20:10 respectively"
   ]
  },
  {
   "cell_type": "code",
   "execution_count": null,
   "metadata": {},
   "outputs": [],
   "source": [
    "batch_size = 14\n",
    "\n",
    "dat = NiiDataset('/home2/rhuthik.p/BioCliq/imagesTr', '/home2/rhuthik.p/BioCliq/test')\n",
    "train_data = imagedata(dat,indices = (0,31)) # 70%\n",
    "valis_data = imagedata(dat,indices = (31,40)) # 20%\n",
    "test_data = imagedata(dat,indices = (36,40)) #10%\n",
    "test_loader = DataLoader(test_data, batch_size=batch_size, shuffle=False)\n",
    "train_loader = DataLoader(train_data, batch_size=batch_size, shuffle=True)\n",
    "valid_loader = DataLoader(valis_data, batch_size=batch_size, shuffle=False)"
   ]
  },
  {
   "cell_type": "code",
   "execution_count": 13,
   "metadata": {},
   "outputs": [],
   "source": [
    "import ipywidgets as widgets\n",
    "import matplotlib.pyplot as plt\n",
    "from IPython.display import display"
   ]
  },
  {
   "cell_type": "markdown",
   "metadata": {},
   "source": [
    "## Now we experiment with different models and its hyperparameters.\n",
    "### Shared Parameters and Rationale\n",
    "For all models, we use a learning rate of 0.0001 and train for 20 epochs. The choice of these parameters was determined through experimentation. A lower learning rate allows for more precise model updates, which is crucial in fine-tuning models with pretrained weights like ours. The pretrained ImageNet weights provide a strong foundation, as ImageNet encompasses a wide range of features. This pretraining helps in achieving better generalization when fine-tuning with our specific lung CT scan dataset.\n",
    "### Our Best Model is ResUnet with resnet 18 architecure with an Average Test Dice Score: 0.9573\n",
    "For our models , we have used pretrained weights from ImageNet which was trained on a vast amount of image dataset, which provides us a good base.\n",
    "Then we finetune for our specific case here of lung segmentation."
   ]
  },
  {
   "cell_type": "markdown",
   "metadata": {},
   "source": [
    "## ResUnet with resnet 18 and BCE\n",
    "* ResNet18 is chosen for its balance between performance and computational efficiency. It's a smaller and faster model compared to ResNet34, making it more suitable for deployment.\n",
    "* BCEWithLogitsLoss is used, which combines a sigmoid layer with the binary cross-entropy loss. This loss function is suitable for binary classification tasks like ours, where each pixel is classified as lung or non-lung.\n",
    "* The choice of ResNet18 was motivated by its superior performance in preliminary tests and its efficiency, making it suitable for practical applications. The initial encoder weights from ImageNet provide a robust starting point, as ImageNet-trained models capture a wide range of features that are beneficial for a variety of tasks."
   ]
  },
  {
   "cell_type": "markdown",
   "metadata": {},
   "source": [
    "## Training"
   ]
  },
  {
   "cell_type": "code",
   "execution_count": 19,
   "metadata": {},
   "outputs": [],
   "source": [
    "num_epochs = 20\n",
    "model = smp.Unet(\n",
    "    encoder_name=\"resnet18\",       # Choose encoder architecture\n",
    "    encoder_weights=\"imagenet\",    # Use pre-trained weights from ImageNet\n",
    "    in_channels=1,                 # Number of input channels (1 for grayscale images)\n",
    "    classes=1                      # Number of output classes (1 for binary segmentation)\n",
    ")\n",
    "loss_criterion = torch.nn.BCEWithLogitsLoss()\n",
    "dice_score_function = dice_score\n",
    "prefix = 'unet_'+str(num_epochs)+'_resnet18_1e-4_'\n",
    "device = torch.device(\"cuda\" if torch.cuda.is_available() else \"cpu\")\n",
    "optimizer = torch.optim.Adam(model.parameters(), lr=0.0001)"
   ]
  },
  {
   "cell_type": "code",
   "execution_count": 28,
   "metadata": {},
   "outputs": [
    {
     "name": "stderr",
     "output_type": "stream",
     "text": [
      "  0%|          | 0/20 [00:00<?, ?it/s]"
     ]
    },
    {
     "name": "stderr",
     "output_type": "stream",
     "text": [
      "/tmp/ipykernel_8339/2511421886.py:48: UserWarning: To copy construct from a tensor, it is recommended to use sourceTensor.clone().detach() or sourceTensor.clone().detach().requires_grad_(True), rather than torch.tensor(sourceTensor).\n",
      "  image = torch.tensor(image, dtype=torch.float32).unsqueeze(0)  # Add channel dimension\n",
      "/tmp/ipykernel_8339/2511421886.py:49: UserWarning: To copy construct from a tensor, it is recommended to use sourceTensor.clone().detach() or sourceTensor.clone().detach().requires_grad_(True), rather than torch.tensor(sourceTensor).\n",
      "  label = torch.tensor(label, dtype=torch.float32).unsqueeze(0)\n",
      "  5%|▌         | 1/20 [02:45<52:20, 165.31s/it]"
     ]
    },
    {
     "name": "stdout",
     "output_type": "stream",
     "text": [
      "Epoch [1/20], Train Loss: 0.0982, Train Dice Score: 0.8921, Validation Loss: 0.0362, Validation Dice Score: 0.9185\n"
     ]
    },
    {
     "name": "stderr",
     "output_type": "stream",
     "text": [
      " 10%|█         | 2/20 [05:25<48:41, 162.29s/it]"
     ]
    },
    {
     "name": "stdout",
     "output_type": "stream",
     "text": [
      "Epoch [2/20], Train Loss: 0.0233, Train Dice Score: 0.9577, Validation Loss: 0.0201, Validation Dice Score: 0.9495\n"
     ]
    },
    {
     "name": "stderr",
     "output_type": "stream",
     "text": [
      " 15%|█▌        | 3/20 [08:07<45:59, 162.34s/it]"
     ]
    },
    {
     "name": "stdout",
     "output_type": "stream",
     "text": [
      "Epoch [3/20], Train Loss: 0.0124, Train Dice Score: 0.9649, Validation Loss: 0.0126, Validation Dice Score: 0.9478\n"
     ]
    },
    {
     "name": "stderr",
     "output_type": "stream",
     "text": [
      " 20%|██        | 4/20 [10:52<43:32, 163.25s/it]"
     ]
    },
    {
     "name": "stdout",
     "output_type": "stream",
     "text": [
      "Epoch [4/20], Train Loss: 0.0090, Train Dice Score: 0.9646, Validation Loss: 0.0126, Validation Dice Score: 0.9559\n"
     ]
    },
    {
     "name": "stderr",
     "output_type": "stream",
     "text": [
      " 25%|██▌       | 5/20 [13:33<40:35, 162.37s/it]"
     ]
    },
    {
     "name": "stdout",
     "output_type": "stream",
     "text": [
      "Epoch [5/20], Train Loss: 0.0062, Train Dice Score: 0.9774, Validation Loss: 0.0088, Validation Dice Score: 0.9509\n"
     ]
    },
    {
     "name": "stderr",
     "output_type": "stream",
     "text": [
      " 30%|███       | 6/20 [16:14<37:45, 161.80s/it]"
     ]
    },
    {
     "name": "stdout",
     "output_type": "stream",
     "text": [
      "Epoch [6/20], Train Loss: 0.0051, Train Dice Score: 0.9797, Validation Loss: 0.0077, Validation Dice Score: 0.9514\n"
     ]
    },
    {
     "name": "stderr",
     "output_type": "stream",
     "text": [
      " 35%|███▌      | 7/20 [18:52<34:48, 160.69s/it]"
     ]
    },
    {
     "name": "stdout",
     "output_type": "stream",
     "text": [
      "Epoch [7/20], Train Loss: 0.0045, Train Dice Score: 0.9811, Validation Loss: 0.0090, Validation Dice Score: 0.9487\n"
     ]
    },
    {
     "name": "stderr",
     "output_type": "stream",
     "text": [
      " 40%|████      | 8/20 [21:31<32:01, 160.10s/it]"
     ]
    },
    {
     "name": "stdout",
     "output_type": "stream",
     "text": [
      "Epoch [8/20], Train Loss: 0.0040, Train Dice Score: 0.9826, Validation Loss: 0.0115, Validation Dice Score: 0.9393\n"
     ]
    },
    {
     "name": "stderr",
     "output_type": "stream",
     "text": [
      " 45%|████▌     | 9/20 [24:09<29:14, 159.52s/it]"
     ]
    },
    {
     "name": "stdout",
     "output_type": "stream",
     "text": [
      "Epoch [9/20], Train Loss: 0.0064, Train Dice Score: 0.9641, Validation Loss: 0.0168, Validation Dice Score: 0.9142\n"
     ]
    },
    {
     "name": "stderr",
     "output_type": "stream",
     "text": [
      " 50%|█████     | 10/20 [26:47<26:31, 159.15s/it]"
     ]
    },
    {
     "name": "stdout",
     "output_type": "stream",
     "text": [
      "Epoch [10/20], Train Loss: 0.0046, Train Dice Score: 0.9713, Validation Loss: 0.0174, Validation Dice Score: 0.9333\n"
     ]
    },
    {
     "name": "stderr",
     "output_type": "stream",
     "text": [
      " 55%|█████▌    | 11/20 [29:26<23:52, 159.13s/it]"
     ]
    },
    {
     "name": "stdout",
     "output_type": "stream",
     "text": [
      "Epoch [11/20], Train Loss: 0.0037, Train Dice Score: 0.9802, Validation Loss: 0.0199, Validation Dice Score: 0.9388\n"
     ]
    },
    {
     "name": "stderr",
     "output_type": "stream",
     "text": [
      " 60%|██████    | 12/20 [32:06<21:14, 159.35s/it]"
     ]
    },
    {
     "name": "stdout",
     "output_type": "stream",
     "text": [
      "Epoch [12/20], Train Loss: 0.0034, Train Dice Score: 0.9828, Validation Loss: 0.0176, Validation Dice Score: 0.9462\n"
     ]
    },
    {
     "name": "stderr",
     "output_type": "stream",
     "text": [
      " 65%|██████▌   | 13/20 [34:45<18:33, 159.12s/it]"
     ]
    },
    {
     "name": "stdout",
     "output_type": "stream",
     "text": [
      "Epoch [13/20], Train Loss: 0.0032, Train Dice Score: 0.9844, Validation Loss: 0.0197, Validation Dice Score: 0.9360\n"
     ]
    },
    {
     "name": "stderr",
     "output_type": "stream",
     "text": [
      " 70%|███████   | 14/20 [37:23<15:53, 158.86s/it]"
     ]
    },
    {
     "name": "stdout",
     "output_type": "stream",
     "text": [
      "Epoch [14/20], Train Loss: 0.0031, Train Dice Score: 0.9848, Validation Loss: 0.0199, Validation Dice Score: 0.9336\n"
     ]
    },
    {
     "name": "stderr",
     "output_type": "stream",
     "text": [
      " 75%|███████▌  | 15/20 [40:01<13:13, 158.68s/it]"
     ]
    },
    {
     "name": "stdout",
     "output_type": "stream",
     "text": [
      "Epoch [15/20], Train Loss: 0.0030, Train Dice Score: 0.9852, Validation Loss: 0.0242, Validation Dice Score: 0.9294\n"
     ]
    },
    {
     "name": "stderr",
     "output_type": "stream",
     "text": [
      " 80%|████████  | 16/20 [42:40<10:34, 158.55s/it]"
     ]
    },
    {
     "name": "stdout",
     "output_type": "stream",
     "text": [
      "Epoch [16/20], Train Loss: 0.0030, Train Dice Score: 0.9847, Validation Loss: 0.0314, Validation Dice Score: 0.9086\n"
     ]
    },
    {
     "name": "stderr",
     "output_type": "stream",
     "text": [
      " 85%|████████▌ | 17/20 [45:18<07:55, 158.48s/it]"
     ]
    },
    {
     "name": "stdout",
     "output_type": "stream",
     "text": [
      "Epoch [17/20], Train Loss: 0.0058, Train Dice Score: 0.9632, Validation Loss: 0.0103, Validation Dice Score: 0.9360\n"
     ]
    },
    {
     "name": "stderr",
     "output_type": "stream",
     "text": [
      " 90%|█████████ | 18/20 [47:56<05:16, 158.45s/it]"
     ]
    },
    {
     "name": "stdout",
     "output_type": "stream",
     "text": [
      "Epoch [18/20], Train Loss: 0.0031, Train Dice Score: 0.9828, Validation Loss: 0.0113, Validation Dice Score: 0.9387\n"
     ]
    },
    {
     "name": "stderr",
     "output_type": "stream",
     "text": [
      " 95%|█████████▌| 19/20 [50:35<02:38, 158.41s/it]"
     ]
    },
    {
     "name": "stdout",
     "output_type": "stream",
     "text": [
      "Epoch [19/20], Train Loss: 0.0029, Train Dice Score: 0.9858, Validation Loss: 0.0149, Validation Dice Score: 0.9334\n"
     ]
    },
    {
     "name": "stderr",
     "output_type": "stream",
     "text": [
      "100%|██████████| 20/20 [53:13<00:00, 159.67s/it]"
     ]
    },
    {
     "name": "stdout",
     "output_type": "stream",
     "text": [
      "Epoch [20/20], Train Loss: 0.0028, Train Dice Score: 0.9872, Validation Loss: 0.0129, Validation Dice Score: 0.9444\n"
     ]
    },
    {
     "name": "stderr",
     "output_type": "stream",
     "text": [
      "\n"
     ]
    }
   ],
   "source": [
    "train_losses, train_dice_scores, valid_losses, valid_dice_scores = train_model(model, num_epochs, train_loader, valid_loader, device, loss_criterion, optimizer, dice_score_function, prefix+ 'best_model.pth', prefix+'train_loss.txt',prefix+ 'valid_loss.txt', prefix+'dice_scores.txt')"
   ]
  },
  {
   "cell_type": "code",
   "execution_count": 29,
   "metadata": {},
   "outputs": [
    {
     "data": {
      "image/png": "[encoded data removed]",
      "text/plain": [
       "<Figure size 640x480 with 1 Axes>"
      ]
     },
     "metadata": {},
     "output_type": "display_data"
    },
    {
     "data": {
      "image/png": "[encoded data removed]",
      "text/plain": [
       "<Figure size 640x480 with 1 Axes>"
      ]
     },
     "metadata": {},
     "output_type": "display_data"
    }
   ],
   "source": [
    "plot_loss(prefix+'train_loss.txt', prefix+'valid_loss.txt')\n",
    "plot_dice(prefix+'dice_scores.txt')"
   ]
  },
  {
   "cell_type": "markdown",
   "metadata": {},
   "source": [
    "## Evaluating"
   ]
  },
  {
   "cell_type": "code",
   "execution_count": 20,
   "metadata": {},
   "outputs": [],
   "source": [
    "model_path = prefix+ 'best_model.pth' \n",
    "model.load_state_dict(torch.load(model_path, map_location=device))\n",
    "model = model.to(device)"
   ]
  },
  {
   "cell_type": "code",
   "execution_count": 21,
   "metadata": {},
   "outputs": [
    {
     "name": "stderr",
     "output_type": "stream",
     "text": [
      "100%|██████████| 89/89 [00:08<00:00,  9.95it/s]"
     ]
    },
    {
     "name": "stdout",
     "output_type": "stream",
     "text": [
      "Average Test Dice Score: 0.9573\n"
     ]
    },
    {
     "name": "stderr",
     "output_type": "stream",
     "text": [
      "\n"
     ]
    }
   ],
   "source": [
    "res, lab, dice = eval_model(model, test_loader, device)"
   ]
  },
  {
   "cell_type": "markdown",
   "metadata": {},
   "source": [
    "### To view a side by side of Results and Label run the following"
   ]
  },
  {
   "cell_type": "code",
   "execution_count": 22,
   "metadata": {},
   "outputs": [
    {
     "data": {
      "application/vnd.jupyter.widget-view+json": {
       "model_id": "c5bbdf2b317746a58083a2547c8161ce",
       "version_major": 2,
       "version_minor": 0
      },
      "text/plain": [
       "interactive(children=(IntSlider(value=0, description='Index', max=1241), Output()), _dom_classes=('widget-inte…"
      ]
     },
     "execution_count": 22,
     "metadata": {},
     "output_type": "execute_result"
    }
   ],
   "source": [
    "reshaped_res = [x.squeeze(1) for x in res]  # (14, 512, 512)\n",
    "concatenated_res = torch.cat(reshaped_res, dim=0) \n",
    "reshaped_lab = [x.squeeze(1) for x in lab] \n",
    "concatenated_lab = torch.cat(reshaped_lab, dim=0) \n",
    "def show_images(index):\n",
    "    fig, axs = plt.subplots(1, 2, figsize=(10, 5))\n",
    "\n",
    "\n",
    "    axs[0].imshow(concatenated_lab[index].cpu().numpy(), cmap='gray')\n",
    "    axs[0].set_title('Label')\n",
    "    axs[0].axis('off')\n",
    "\n",
    "    axs[1].imshow(concatenated_res[index].cpu().numpy()>0.5, cmap='gray')\n",
    "    axs[1].set_title('Result')\n",
    "    axs[1].axis('off')\n",
    "\n",
    "    plt.show()\n",
    "\n",
    "n = concatenated_lab.shape[0] \n",
    "slider = widgets.IntSlider(value=0, min=0, max=n-1, step=1, description='Index')\n",
    "\n",
    "widgets.interactive(show_images, index=slider)"
   ]
  },
  {
   "cell_type": "code",
   "execution_count": null,
   "metadata": {},
   "outputs": [],
   "source": [
    "## clear cache\n",
    "torch.cuda.empty_cache()"
   ]
  },
  {
   "cell_type": "markdown",
   "metadata": {},
   "source": [
    "## The Rest of the Models are kept in the Notebook to show how the experiments went and rationale to try them"
   ]
  },
  {
   "cell_type": "markdown",
   "metadata": {},
   "source": [
    "### ResUnet wiht Resnet34 and BCE\n",
    "* We utilize the ResNet34 architecture, known for its effectiveness in image classification tasks. ResNet34, with its deeper architecture, is expected to capture complex patterns in the CT scan data.\n",
    "* BCEWithLogitsLoss is used, which combines a sigmoid layer with the binary cross-entropy loss. This loss function is suitable for binary classification tasks like ours, where each pixel is classified as lung or non-lung.\n",
    "* Although ResNet34 is deeper and potentially more powerful, its performance was not significantly better than its smaller counterpart, ResNet18, for our specific task. Additionally, its larger size makes it less ideal for deployment in resource-constrained environments."
   ]
  },
  {
   "cell_type": "code",
   "execution_count": 33,
   "metadata": {},
   "outputs": [],
   "source": [
    "## clear gpu cache\n",
    "torch.cuda.empty_cache()"
   ]
  },
  {
   "cell_type": "code",
   "execution_count": 34,
   "metadata": {},
   "outputs": [
    {
     "name": "stderr",
     "output_type": "stream",
     "text": [
      "  0%|          | 0/89 [00:00<?, ?it/s]/tmp/ipykernel_8339/2511421886.py:48: UserWarning: To copy construct from a tensor, it is recommended to use sourceTensor.clone().detach() or sourceTensor.clone().detach().requires_grad_(True), rather than torch.tensor(sourceTensor).\n",
      "  image = torch.tensor(image, dtype=torch.float32).unsqueeze(0)  # Add channel dimension\n",
      "/tmp/ipykernel_8339/2511421886.py:49: UserWarning: To copy construct from a tensor, it is recommended to use sourceTensor.clone().detach() or sourceTensor.clone().detach().requires_grad_(True), rather than torch.tensor(sourceTensor).\n",
      "  label = torch.tensor(label, dtype=torch.float32).unsqueeze(0)\n",
      "100%|██████████| 89/89 [00:07<00:00, 11.23it/s]"
     ]
    },
    {
     "name": "stdout",
     "output_type": "stream",
     "text": [
      "Average Test Dice Score: 0.9560\n"
     ]
    },
    {
     "name": "stderr",
     "output_type": "stream",
     "text": [
      "\n"
     ]
    }
   ],
   "source": [
    "num_epochs = 20\n",
    "model = smp.Unet(\n",
    "    encoder_name=\"resnet34\",       \n",
    "    encoder_weights=\"imagenet\",   \n",
    "    in_channels=1,                 \n",
    "    classes=1                      \n",
    ")\n",
    "loss_criterion = torch.nn.BCEWithLogitsLoss()\n",
    "dice_score_function = dice_score\n",
    "prefix = 'unet_'+str(num_epochs)+'_resnet34_1e-4_'\n",
    "device = torch.device(\"cuda\" if torch.cuda.is_available() else \"cpu\")\n",
    "optimizer = torch.optim.Adam(model.parameters(), lr=0.0001)\n",
    "\n",
    "train_losses, train_dice_scores, valid_losses, valid_dice_scores = train_model(model, num_epochs, train_loader, valid_loader, device, loss_criterion, optimizer, dice_score_function, prefix+ 'best_model.pth', prefix+'train_loss.txt',prefix+ 'valid_loss.txt', prefix+'dice_scores.txt')\n",
    "\n",
    "plot_loss(prefix+'train_loss.txt', prefix+'valid_loss.txt')\n",
    "plot_dice(prefix+'dice_scores.txt')\n",
    "\n",
    "model_path = prefix+ 'best_model.pth'  \n",
    "model_path = 'best_model_state_res34_1e-4.pth'\n",
    "model.load_state_dict(torch.load(model_path, map_location=device))\n",
    "model = model.to(device)\n",
    "\n",
    "res, lab, dice = eval_model(model, test_loader, device)"
   ]
  },
  {
   "cell_type": "code",
   "execution_count": 35,
   "metadata": {},
   "outputs": [
    {
     "data": {
      "image/png": "[encoded data removed]",
      "text/plain": [
       "<Figure size 1000x500 with 2 Axes>"
      ]
     },
     "metadata": {},
     "output_type": "display_data"
    }
   ],
   "source": [
    "plot_results(res,lab,10,5)"
   ]
  },
  {
   "cell_type": "markdown",
   "metadata": {},
   "source": [
    "DiceLoss Function for using as Loss"
   ]
  },
  {
   "cell_type": "code",
   "execution_count": 36,
   "metadata": {},
   "outputs": [],
   "source": [
    "class DiceLoss(torch.nn.Module):\n",
    "    def __init__(self, smooth=1.0):\n",
    "        super(DiceLoss, self).__init__()\n",
    "        self.smooth = smooth\n",
    "\n",
    "    def forward(self, preds, targets):\n",
    "        preds = torch.sigmoid(preds)\n",
    "        preds = preds.view(-1)\n",
    "        targets = targets.view(-1)\n",
    "\n",
    "        intersection = (preds * targets).sum()\n",
    "        dice_coefficient = (2. * intersection + self.smooth) / (preds.sum() + targets.sum() + self.smooth)\n",
    "\n",
    "        return 1. - dice_coefficient\n"
   ]
  },
  {
   "cell_type": "markdown",
   "metadata": {},
   "source": [
    "### ResUnet with Resnet18 and Dice loss as loss function\n",
    "* The same ResNet18 architecture is used.\n",
    "* The Dice loss function is employed here. Dice loss is particularly suited for data with imbalanced classes, which is often the case in medical image segmentation and wanted to try since we evaluate with the same.\n",
    "* Using Dice loss allows us to directly optimize for the metric we use for evaluation, potentially leading to better segmentation performance on our lung CT scans."
   ]
  },
  {
   "cell_type": "code",
   "execution_count": 48,
   "metadata": {},
   "outputs": [
    {
     "name": "stderr",
     "output_type": "stream",
     "text": [
      "  0%|          | 0/10 [00:00<?, ?it/s]/tmp/ipykernel_8339/2511421886.py:48: UserWarning: To copy construct from a tensor, it is recommended to use sourceTensor.clone().detach() or sourceTensor.clone().detach().requires_grad_(True), rather than torch.tensor(sourceTensor).\n",
      "  image = torch.tensor(image, dtype=torch.float32).unsqueeze(0)  # Add channel dimension\n",
      "/tmp/ipykernel_8339/2511421886.py:49: UserWarning: To copy construct from a tensor, it is recommended to use sourceTensor.clone().detach() or sourceTensor.clone().detach().requires_grad_(True), rather than torch.tensor(sourceTensor).\n",
      "  label = torch.tensor(label, dtype=torch.float32).unsqueeze(0)\n",
      " 10%|█         | 1/10 [02:38<23:45, 158.42s/it]"
     ]
    },
    {
     "name": "stdout",
     "output_type": "stream",
     "text": [
      "Epoch [1/10], Train Loss: 0.0060, Train Dice Score: 0.9754, Validation Loss: 0.1444, Validation Dice Score: 0.9099\n"
     ]
    },
    {
     "name": "stderr",
     "output_type": "stream",
     "text": [
      " 20%|██        | 2/10 [05:18<21:14, 159.36s/it]"
     ]
    },
    {
     "name": "stdout",
     "output_type": "stream",
     "text": [
      "Epoch [2/10], Train Loss: 0.0059, Train Dice Score: 0.9753, Validation Loss: 0.1119, Validation Dice Score: 0.9438\n"
     ]
    },
    {
     "name": "stderr",
     "output_type": "stream",
     "text": [
      " 30%|███       | 3/10 [08:00<18:43, 160.55s/it]"
     ]
    },
    {
     "name": "stdout",
     "output_type": "stream",
     "text": [
      "Epoch [3/10], Train Loss: 0.0048, Train Dice Score: 0.9824, Validation Loss: 0.1102, Validation Dice Score: 0.9460\n"
     ]
    },
    {
     "name": "stderr",
     "output_type": "stream",
     "text": [
      " 40%|████      | 4/10 [10:39<15:59, 159.87s/it]"
     ]
    },
    {
     "name": "stdout",
     "output_type": "stream",
     "text": [
      "Epoch [4/10], Train Loss: 0.0046, Train Dice Score: 0.9836, Validation Loss: 0.1057, Validation Dice Score: 0.9462\n"
     ]
    },
    {
     "name": "stderr",
     "output_type": "stream",
     "text": [
      " 50%|█████     | 5/10 [13:19<13:19, 159.95s/it]"
     ]
    },
    {
     "name": "stdout",
     "output_type": "stream",
     "text": [
      "Epoch [5/10], Train Loss: 0.0044, Train Dice Score: 0.9840, Validation Loss: 0.1062, Validation Dice Score: 0.9428\n"
     ]
    },
    {
     "name": "stderr",
     "output_type": "stream",
     "text": [
      " 60%|██████    | 6/10 [15:59<10:39, 159.98s/it]"
     ]
    },
    {
     "name": "stdout",
     "output_type": "stream",
     "text": [
      "Epoch [6/10], Train Loss: 0.0046, Train Dice Score: 0.9801, Validation Loss: 0.0987, Validation Dice Score: 0.9517\n"
     ]
    },
    {
     "name": "stderr",
     "output_type": "stream",
     "text": [
      " 70%|███████   | 7/10 [18:37<07:58, 159.48s/it]"
     ]
    },
    {
     "name": "stdout",
     "output_type": "stream",
     "text": [
      "Epoch [7/10], Train Loss: 0.0044, Train Dice Score: 0.9830, Validation Loss: 0.0986, Validation Dice Score: 0.9623\n"
     ]
    },
    {
     "name": "stderr",
     "output_type": "stream",
     "text": [
      " 80%|████████  | 8/10 [21:16<05:18, 159.08s/it]"
     ]
    },
    {
     "name": "stdout",
     "output_type": "stream",
     "text": [
      "Epoch [8/10], Train Loss: 0.0051, Train Dice Score: 0.9812, Validation Loss: 0.1190, Validation Dice Score: 0.9377\n"
     ]
    },
    {
     "name": "stderr",
     "output_type": "stream",
     "text": [
      " 90%|█████████ | 9/10 [23:54<02:38, 158.87s/it]"
     ]
    },
    {
     "name": "stdout",
     "output_type": "stream",
     "text": [
      "Epoch [9/10], Train Loss: 0.0058, Train Dice Score: 0.9739, Validation Loss: 0.1060, Validation Dice Score: 0.9542\n"
     ]
    },
    {
     "name": "stderr",
     "output_type": "stream",
     "text": [
      "100%|██████████| 10/10 [26:32<00:00, 159.24s/it]"
     ]
    },
    {
     "name": "stdout",
     "output_type": "stream",
     "text": [
      "Epoch [10/10], Train Loss: 0.0044, Train Dice Score: 0.9827, Validation Loss: 0.1038, Validation Dice Score: 0.9485\n"
     ]
    },
    {
     "name": "stderr",
     "output_type": "stream",
     "text": [
      "\n"
     ]
    },
    {
     "data": {
      "image/png": "[encoded data removed]",
      "text/plain": [
       "<Figure size 640x480 with 1 Axes>"
      ]
     },
     "metadata": {},
     "output_type": "display_data"
    },
    {
     "data": {
      "image/png": "[encoded data removed]",
      "text/plain": [
       "<Figure size 640x480 with 1 Axes>"
      ]
     },
     "metadata": {},
     "output_type": "display_data"
    }
   ],
   "source": [
    "num_epochs = 10\n",
    "loss_criterion = DiceLoss()\n",
    "dice_score_function = dice_score\n",
    "prefix = 'unet_'+str(20)+'_resnet18_dice_1e-4_'\n",
    "device = torch.device(\"cuda\" if torch.cuda.is_available() else \"cpu\")\n",
    "optimizer = torch.optim.Adam(model.parameters(), lr=0.0001)\n",
    "\n",
    "train_losses, train_dice_scores, valid_losses, valid_dice_scores = train_model(model, num_epochs, train_loader, valid_loader, device, loss_criterion, optimizer, dice_score_function, prefix+ 'best_model.pth', prefix+'train_loss.txt',prefix+ 'valid_loss.txt', prefix+'dice_scores.txt')\n",
    "\n",
    "plot_loss(prefix+'train_loss.txt', prefix+'valid_loss.txt')\n",
    "plot_dice(prefix+'dice_scores.txt')\n",
    "\n",
    "model_path = prefix+ 'best_model.pth'  # Replace with your saved model's path\n",
    "model.load_state_dict(torch.load(model_path, map_location=device))\n",
    "model = model.to(device)\n"
   ]
  },
  {
   "cell_type": "code",
   "execution_count": 49,
   "metadata": {},
   "outputs": [
    {
     "name": "stderr",
     "output_type": "stream",
     "text": [
      "  0%|          | 0/89 [00:00<?, ?it/s]/tmp/ipykernel_8339/2511421886.py:48: UserWarning: To copy construct from a tensor, it is recommended to use sourceTensor.clone().detach() or sourceTensor.clone().detach().requires_grad_(True), rather than torch.tensor(sourceTensor).\n",
      "  image = torch.tensor(image, dtype=torch.float32).unsqueeze(0)  # Add channel dimension\n",
      "/tmp/ipykernel_8339/2511421886.py:49: UserWarning: To copy construct from a tensor, it is recommended to use sourceTensor.clone().detach() or sourceTensor.clone().detach().requires_grad_(True), rather than torch.tensor(sourceTensor).\n",
      "  label = torch.tensor(label, dtype=torch.float32).unsqueeze(0)\n",
      "100%|██████████| 89/89 [00:06<00:00, 13.26it/s]"
     ]
    },
    {
     "name": "stdout",
     "output_type": "stream",
     "text": [
      "Average Test Dice Score: 0.9517\n"
     ]
    },
    {
     "name": "stderr",
     "output_type": "stream",
     "text": [
      "\n"
     ]
    }
   ],
   "source": [
    "model_path = 'unet_20_resnet18_dice_1e-4_best_model.pth'\n",
    "model.load_state_dict(torch.load(model_path, map_location=device))\n",
    "model = model.to(device)\n",
    "\n",
    "res, lab, dice = eval_model(model, test_loader, device)"
   ]
  },
  {
   "cell_type": "code",
   "execution_count": 40,
   "metadata": {},
   "outputs": [
    {
     "data": {
      "image/png": "[encoded data removed]",
      "text/plain": [
       "<Figure size 1000x500 with 2 Axes>"
      ]
     },
     "metadata": {},
     "output_type": "display_data"
    }
   ],
   "source": [
    "plot_results(res,lab,10,5)"
   ]
  },
  {
   "cell_type": "markdown",
   "metadata": {},
   "source": [
    "### ResUnet with Resnet18 and Focal Loss as loss function\n",
    "* Continuing with ResNet18 for its efficiency.\n",
    "* FocalLoss is used, which is designed to address class imbalance by focusing more on hard-to-classify examples.\n",
    "* FocalLoss is particularly useful in situations where there is a significant imbalance between the foreground and background classes, which is common in segmentation tasks like ours."
   ]
  },
  {
   "cell_type": "code",
   "execution_count": 41,
   "metadata": {},
   "outputs": [],
   "source": [
    "class FocalLoss(nn.Module):\n",
    "    def __init__(self, alpha=0.25, gamma=2.0, reduction='mean'):\n",
    "        super(FocalLoss, self).__init__()\n",
    "        self.alpha = alpha\n",
    "        self.gamma = gamma\n",
    "        self.reduction = reduction\n",
    "\n",
    "    def forward(self, inputs, targets):\n",
    "        BCE_loss = F.binary_cross_entropy_with_logits(inputs, targets, reduction='none')\n",
    "        pt = torch.exp(-BCE_loss) \n",
    "        F_loss = self.alpha * (1-pt)**self.gamma * BCE_loss\n",
    "\n",
    "        if self.reduction == 'mean':\n",
    "            return torch.mean(F_loss)\n",
    "        elif self.reduction == 'sum':\n",
    "            return torch.sum(F_loss)\n",
    "        else:\n",
    "            return F_loss\n"
   ]
  },
  {
   "cell_type": "code",
   "execution_count": 42,
   "metadata": {},
   "outputs": [
    {
     "name": "stderr",
     "output_type": "stream",
     "text": [
      "  0%|          | 0/10 [00:00<?, ?it/s]/tmp/ipykernel_8339/2511421886.py:48: UserWarning: To copy construct from a tensor, it is recommended to use sourceTensor.clone().detach() or sourceTensor.clone().detach().requires_grad_(True), rather than torch.tensor(sourceTensor).\n",
      "  image = torch.tensor(image, dtype=torch.float32).unsqueeze(0)  # Add channel dimension\n",
      "/tmp/ipykernel_8339/2511421886.py:49: UserWarning: To copy construct from a tensor, it is recommended to use sourceTensor.clone().detach() or sourceTensor.clone().detach().requires_grad_(True), rather than torch.tensor(sourceTensor).\n",
      "  label = torch.tensor(label, dtype=torch.float32).unsqueeze(0)\n",
      " 10%|█         | 1/10 [02:39<23:57, 159.69s/it]"
     ]
    },
    {
     "name": "stdout",
     "output_type": "stream",
     "text": [
      "Epoch [1/10], Train Loss: 0.0071, Train Dice Score: 0.8614, Validation Loss: 0.0014, Validation Dice Score: 0.9162\n"
     ]
    },
    {
     "name": "stderr",
     "output_type": "stream",
     "text": [
      " 20%|██        | 2/10 [05:19<21:16, 159.57s/it]"
     ]
    },
    {
     "name": "stdout",
     "output_type": "stream",
     "text": [
      "Epoch [2/10], Train Loss: 0.0010, Train Dice Score: 0.9552, Validation Loss: 0.0013, Validation Dice Score: 0.9490\n"
     ]
    },
    {
     "name": "stderr",
     "output_type": "stream",
     "text": [
      " 30%|███       | 3/10 [07:58<18:35, 159.30s/it]"
     ]
    },
    {
     "name": "stdout",
     "output_type": "stream",
     "text": [
      "Epoch [3/10], Train Loss: 0.0005, Train Dice Score: 0.9701, Validation Loss: 0.0014, Validation Dice Score: 0.9552\n"
     ]
    },
    {
     "name": "stderr",
     "output_type": "stream",
     "text": [
      " 40%|████      | 4/10 [10:37<15:56, 159.44s/it]"
     ]
    },
    {
     "name": "stdout",
     "output_type": "stream",
     "text": [
      "Epoch [4/10], Train Loss: 0.0008, Train Dice Score: 0.9432, Validation Loss: 0.0006, Validation Dice Score: 0.9416\n"
     ]
    },
    {
     "name": "stderr",
     "output_type": "stream",
     "text": [
      " 50%|█████     | 5/10 [13:16<13:16, 159.29s/it]"
     ]
    },
    {
     "name": "stdout",
     "output_type": "stream",
     "text": [
      "Epoch [5/10], Train Loss: 0.0004, Train Dice Score: 0.9606, Validation Loss: 0.0009, Validation Dice Score: 0.9414\n"
     ]
    },
    {
     "name": "stderr",
     "output_type": "stream",
     "text": [
      " 60%|██████    | 6/10 [15:55<10:36, 159.21s/it]"
     ]
    },
    {
     "name": "stdout",
     "output_type": "stream",
     "text": [
      "Epoch [6/10], Train Loss: 0.0003, Train Dice Score: 0.9748, Validation Loss: 0.0008, Validation Dice Score: 0.9312\n"
     ]
    },
    {
     "name": "stderr",
     "output_type": "stream",
     "text": [
      " 70%|███████   | 7/10 [18:35<07:57, 159.32s/it]"
     ]
    },
    {
     "name": "stdout",
     "output_type": "stream",
     "text": [
      "Epoch [7/10], Train Loss: 0.0003, Train Dice Score: 0.9716, Validation Loss: 0.0005, Validation Dice Score: 0.8660\n"
     ]
    },
    {
     "name": "stderr",
     "output_type": "stream",
     "text": [
      " 80%|████████  | 8/10 [21:14<05:18, 159.24s/it]"
     ]
    },
    {
     "name": "stdout",
     "output_type": "stream",
     "text": [
      "Epoch [8/10], Train Loss: 0.0004, Train Dice Score: 0.9670, Validation Loss: 0.0006, Validation Dice Score: 0.9392\n"
     ]
    },
    {
     "name": "stderr",
     "output_type": "stream",
     "text": [
      " 90%|█████████ | 9/10 [23:53<02:39, 159.22s/it]"
     ]
    },
    {
     "name": "stdout",
     "output_type": "stream",
     "text": [
      "Epoch [9/10], Train Loss: 0.0003, Train Dice Score: 0.9788, Validation Loss: 0.0007, Validation Dice Score: 0.9389\n"
     ]
    },
    {
     "name": "stderr",
     "output_type": "stream",
     "text": [
      "100%|██████████| 10/10 [26:32<00:00, 159.26s/it]"
     ]
    },
    {
     "name": "stdout",
     "output_type": "stream",
     "text": [
      "Epoch [10/10], Train Loss: 0.0003, Train Dice Score: 0.9780, Validation Loss: 0.0016, Validation Dice Score: 0.9323\n"
     ]
    },
    {
     "name": "stderr",
     "output_type": "stream",
     "text": [
      "\n"
     ]
    },
    {
     "data": {
      "image/png": "[encoded data removed]",
      "text/plain": [
       "<Figure size 640x480 with 1 Axes>"
      ]
     },
     "metadata": {},
     "output_type": "display_data"
    },
    {
     "data": {
      "image/png": "[encoded data removed]",
      "text/plain": [
       "<Figure size 640x480 with 1 Axes>"
      ]
     },
     "metadata": {},
     "output_type": "display_data"
    }
   ],
   "source": [
    "num_epochs = 10\n",
    "model = smp.Unet(\n",
    "    encoder_name=\"resnet18\",      \n",
    "    encoder_weights=\"imagenet\",  \n",
    "    in_channels=1,                \n",
    "    classes=1                   \n",
    ")\n",
    "loss_criterion = FocalLoss(alpha=0.25, gamma=2.0)\n",
    "dice_score_function = dice_score\n",
    "prefix = 'unet_'+str(num_epochs)+'_resnet18_focal_1e-4_'\n",
    "device = torch.device(\"cuda\" if torch.cuda.is_available() else \"cpu\")\n",
    "optimizer = torch.optim.Adam(model.parameters(), lr=0.0001)\n",
    "\n",
    "train_losses, train_dice_scores, valid_losses, valid_dice_scores = train_model(model, num_epochs, train_loader, valid_loader, device, loss_criterion, optimizer, dice_score_function, prefix+ 'best_model.pth', prefix+'train_loss.txt',prefix+ 'valid_loss.txt', prefix+'dice_scores.txt')\n",
    "\n",
    "plot_loss(prefix+'train_loss.txt', prefix+'valid_loss.txt')\n",
    "plot_dice(prefix+'dice_scores.txt')\n",
    "\n",
    "model_path = prefix+ 'best_model.pth' \n",
    "model.load_state_dict(torch.load(model_path, map_location=device))\n",
    "model = model.to(device)"
   ]
  },
  {
   "cell_type": "code",
   "execution_count": 43,
   "metadata": {},
   "outputs": [
    {
     "data": {
      "image/png": "[encoded data removed]",
      "text/plain": [
       "<Figure size 640x480 with 1 Axes>"
      ]
     },
     "metadata": {},
     "output_type": "display_data"
    },
    {
     "data": {
      "image/png": "[encoded data removed]",
      "text/plain": [
       "<Figure size 640x480 with 1 Axes>"
      ]
     },
     "metadata": {},
     "output_type": "display_data"
    }
   ],
   "source": [
    "plot_loss(prefix+'train_loss.txt', prefix+'valid_loss.txt')\n",
    "plot_dice(prefix+'dice_scores.txt')"
   ]
  },
  {
   "cell_type": "code",
   "execution_count": 44,
   "metadata": {},
   "outputs": [
    {
     "name": "stderr",
     "output_type": "stream",
     "text": [
      "  0%|          | 0/89 [00:00<?, ?it/s]/tmp/ipykernel_8339/2511421886.py:48: UserWarning: To copy construct from a tensor, it is recommended to use sourceTensor.clone().detach() or sourceTensor.clone().detach().requires_grad_(True), rather than torch.tensor(sourceTensor).\n",
      "  image = torch.tensor(image, dtype=torch.float32).unsqueeze(0)  # Add channel dimension\n",
      "/tmp/ipykernel_8339/2511421886.py:49: UserWarning: To copy construct from a tensor, it is recommended to use sourceTensor.clone().detach() or sourceTensor.clone().detach().requires_grad_(True), rather than torch.tensor(sourceTensor).\n",
      "  label = torch.tensor(label, dtype=torch.float32).unsqueeze(0)\n",
      "100%|██████████| 89/89 [00:07<00:00, 11.72it/s]"
     ]
    },
    {
     "name": "stdout",
     "output_type": "stream",
     "text": [
      "Average Test Dice Score: 0.8559\n"
     ]
    },
    {
     "name": "stderr",
     "output_type": "stream",
     "text": [
      "\n"
     ]
    }
   ],
   "source": [
    "model_path = prefix+ 'best_model.pth'\n",
    "model.load_state_dict(torch.load(model_path, map_location=device))\n",
    "model = model.to(device)\n",
    "res, lab, dice = eval_model(model, test_loader, device)"
   ]
  },
  {
   "cell_type": "code",
   "execution_count": null,
   "metadata": {},
   "outputs": [],
   "source": [
    "plot_results(res,lab,10,5)"
   ]
  },
  {
   "cell_type": "markdown",
   "metadata": {},
   "source": [
    "## Comparison with State-of-the-Art Tool: Lungmask\n",
    "* Lungmask is a widely recognized tool in the medical imaging field, known for its robust lung segmentation capabilities.\n",
    "* Lungmask utilizes the U-net(R231) architecture. This architecture is a variant of the standard U-Net, which is highly effective in medical image segmentation tasks.\n",
    "* The model was trained on a large and diverse dataset encompassing a broad range of visual variability. This diversity ensures its robustness and generalizability across different CT scan images.\n",
    "* It segments individual slices and accurately extracts the right and left lungs separately. Furthermore, it includes the segmentation of air pockets, tumors, and effusions, providing a comprehensive lung analysis."
   ]
  },
  {
   "cell_type": "markdown",
   "metadata": {},
   "source": [
    "### Performance Comparison\n",
    "Lungmask (U-net(R231)) Dice Score: 0.952\n",
    "\n",
    "Our Best Model (Res18 BCE) Dice Score: 0.957"
   ]
  },
  {
   "cell_type": "code",
   "execution_count": 5,
   "metadata": {},
   "outputs": [],
   "source": [
    "import numpy as np\n",
    "import nibabel as nib\n",
    "from lungmask import mask\n",
    "import SimpleITK as sitk\n",
    "import matplotlib.pyplot as plt\n",
    "from ipywidgets import interact\n",
    "import os\n",
    "import nibabel as nib\n"
   ]
  },
  {
   "cell_type": "code",
   "execution_count": 6,
   "metadata": {},
   "outputs": [],
   "source": [
    "def apply_lungmask(input_file_path):\n",
    "    input_image = sitk.ReadImage(input_file_path)\n",
    "    segmentation = mask.apply(input_image, force_cpu=True)\n",
    "\n",
    "    return segmentation\n"
   ]
  },
  {
   "cell_type": "code",
   "execution_count": 7,
   "metadata": {},
   "outputs": [],
   "source": [
    "images = [os.path.join(\"./imagesTr/\", file) for file in os.listdir(\"./imagesTr/\")]\n",
    "labels = [os.path.join(\"./test/\", file) for file in os.listdir(\"./test/\")]\n",
    "images.sort()\n",
    "labels.sort()\n"
   ]
  },
  {
   "cell_type": "code",
   "execution_count": 8,
   "metadata": {},
   "outputs": [],
   "source": [
    "ll , ul = 36,40  \n",
    "labs = []\n",
    "labs2 = []\n",
    "for i in range(ll,ul):\n",
    "    file_path = labels[i]\n",
    "    nii_data = nib.load(file_path)\n",
    "    nii_data = nii_data.get_fdata()\n",
    "    labs2.append(nii_data)\n",
    "    for i in np.transpose(nii_data, (2, 0, 1)):\n",
    "        labs.append(i)"
   ]
  },
  {
   "cell_type": "code",
   "execution_count": 9,
   "metadata": {},
   "outputs": [
    {
     "name": "stderr",
     "output_type": "stream",
     "text": [
      " 90%|█████████ | 8/8.85 [00:39<00:04,  5.05s/it]/home2/rhuthik.p/miniconda3/envs/pytorch/lib/python3.9/site-packages/tqdm/std.py:639: TqdmWarning: clamping frac to range [0, 1]\n",
      "  full_bar = Bar(frac,\n",
      "102%|██████████| 9/8.85 [00:43<00:00,  4.87s/it]"
     ]
    },
    {
     "name": "stdout",
     "output_type": "stream",
     "text": [
      "lungmask 2023-12-18 05:28:19 Postprocessing\n"
     ]
    },
    {
     "name": "stderr",
     "output_type": "stream",
     "text": [
      "\n",
      "100%|██████████| 4/4 [00:00<00:00, 80.57it/s]\n",
      "103%|██████████| 6/5.85 [00:29<00:00,  4.84s/it]"
     ]
    },
    {
     "name": "stdout",
     "output_type": "stream",
     "text": [
      "lungmask 2023-12-18 05:28:52 Postprocessing\n"
     ]
    },
    {
     "name": "stderr",
     "output_type": "stream",
     "text": [
      "\n",
      "100%|██████████| 10/10 [00:00<00:00, 158.69it/s]\n",
      "102%|██████████| 24/23.55 [01:54<-1:59:58,  4.76s/it]"
     ]
    },
    {
     "name": "stdout",
     "output_type": "stream",
     "text": [
      "lungmask 2023-12-18 05:30:54 Postprocessing\n"
     ]
    },
    {
     "name": "stderr",
     "output_type": "stream",
     "text": [
      "\n",
      "100%|██████████| 2/2 [00:00<00:00, 176.31it/s]\n",
      "101%|██████████| 24/23.85 [02:01<00:00,  5.08s/it]"
     ]
    },
    {
     "name": "stdout",
     "output_type": "stream",
     "text": [
      "lungmask 2023-12-18 05:33:07 Postprocessing\n"
     ]
    },
    {
     "name": "stderr",
     "output_type": "stream",
     "text": [
      "\n",
      "100%|██████████| 2/2 [00:00<00:00, 232.89it/s]\n"
     ]
    }
   ],
   "source": [
    "ll , ul = 36,40 \n",
    "results = []\n",
    "for i in range(ll,ul):\n",
    "    file_path = images[i]\n",
    "    segmentation_result = apply_lungmask(file_path)\n",
    "    results.append(segmentation_result)"
   ]
  },
  {
   "cell_type": "code",
   "execution_count": 10,
   "metadata": {},
   "outputs": [],
   "source": [
    "flattened_list = []\n",
    "for item in results:\n",
    "    for slice in item:\n",
    "        flattened_list.append(slice)"
   ]
  },
  {
   "cell_type": "code",
   "execution_count": 11,
   "metadata": {},
   "outputs": [],
   "source": [
    "res = flattened_list\n",
    "lab = labs\n",
    "import ipywidgets as widgets\n",
    "import matplotlib.pyplot as plt\n",
    "from IPython.display import display"
   ]
  },
  {
   "cell_type": "code",
   "execution_count": 12,
   "metadata": {},
   "outputs": [
    {
     "data": {
      "application/vnd.jupyter.widget-view+json": {
       "model_id": "1036f8dfcfa44b01918260d19f15989d",
       "version_major": 2,
       "version_minor": 0
      },
      "text/plain": [
       "interactive(children=(IntSlider(value=0, description='Index', max=1241), Output()), _dom_classes=('widget-inte…"
      ]
     },
     "execution_count": 12,
     "metadata": {},
     "output_type": "execute_result"
    }
   ],
   "source": [
    "concatenated_res = np.array(res)\n",
    "concatenated_lab = np.array(lab)\n",
    "def show_images(index):\n",
    "    fig, axs = plt.subplots(1, 2, figsize=(10, 5))\n",
    "\n",
    "    axs[0].imshow(concatenated_lab[index], cmap='gray')\n",
    "    axs[0].set_title('Label')\n",
    "    axs[0].axis('off')\n",
    "\n",
    "    axs[1].imshow(concatenated_res[index].T>0.5, cmap='gray')\n",
    "    axs[1].set_title('Result')\n",
    "    axs[1].axis('off')\n",
    "\n",
    "    plt.show()\n",
    "\n",
    "n = concatenated_lab.shape[0] \n",
    "slider = widgets.IntSlider(value=0, min=0, max=n-1, step=1, description='Index')\n",
    "\n",
    "widgets.interactive(show_images, index=slider)"
   ]
  },
  {
   "cell_type": "code",
   "execution_count": 13,
   "metadata": {},
   "outputs": [
    {
     "data": {
      "text/plain": [
       "0.9526719610963972"
      ]
     },
     "execution_count": 13,
     "metadata": {},
     "output_type": "execute_result"
    }
   ],
   "source": [
    "scores = []\n",
    "for i in range(len(concatenated_res)):\n",
    "    scores.append(dice_score(torch.tensor(concatenated_res[i].T).unsqueeze(0).unsqueeze(0),torch.tensor(concatenated_lab[i]).unsqueeze(0).unsqueeze(0)))\n",
    "np.mean(scores)"
   ]
  },
  {
   "cell_type": "code",
   "execution_count": null,
   "metadata": {},
   "outputs": [],
   "source": []
  }
 ],
 "metadata": {
  "kernelspec": {
   "display_name": "base",
   "language": "python",
   "name": "python3"
  },
  "language_info": {
   "codemirror_mode": {
    "name": "ipython",
    "version": 3
   },
   "file_extension": ".py",
   "mimetype": "text/x-python",
   "name": "python",
   "nbconvert_exporter": "python",
   "pygments_lexer": "ipython3",
   "version": "3.9.18"
  }
 },
 "nbformat": 4,
 "nbformat_minor": 2
}
